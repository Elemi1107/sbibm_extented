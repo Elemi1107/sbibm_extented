{
 "cells": [
  {
   "cell_type": "code",
   "execution_count": 2,
   "id": "initial_id",
   "metadata": {
    "collapsed": true,
    "ExecuteTime": {
     "end_time": "2025-03-16T18:35:04.788818100Z",
     "start_time": "2025-03-16T18:35:04.741779Z"
    }
   },
   "outputs": [],
   "source": [
    "import os\n",
    "import time\n",
    "\n",
    "import numpy as np\n",
    "from corner import corner\n",
    "from matplotlib import pyplot as plt\n",
    "\n",
    "import sbibm\n",
    "import logging\n",
    "logging.getLogger().setLevel(logging.INFO)\n",
    "\n",
    "\n",
    "def corner_plot(gt_samples, algo_samples, true_params=None, title=None, txt=None, save_as=None, dpi=300):\n",
    "    if true_params is not None:\n",
    "        assert len(true_params) == gt_samples.shape[1], \"true_params dimension mismatch with samples\"\n",
    "\n",
    "    fig = corner(\n",
    "        gt_samples,\n",
    "        color=\"tab:orange\",\n",
    "        hist_kwargs={\"density\": True},\n",
    "    )\n",
    "    corner(\n",
    "        algo_samples,\n",
    "        fig=fig,\n",
    "        color=\"tab:blue\",\n",
    "        contour_kwargs=dict(linestyles=\"dashed\"),\n",
    "        hist_kwargs={\"density\": True},\n",
    "    )\n",
    "\n",
    "    # Add vertical lines for true parameters\n",
    "    axes = fig.get_axes()\n",
    "    num_params = gt_samples.shape[1]\n",
    "\n",
    "    if true_params is not None:\n",
    "        for i in range(num_params):\n",
    "            ax = axes[i * (num_params + 1)]  # Get diagonal subplots\n",
    "            ax.axvline(true_params[i], color=\"red\", linestyle=\"dotted\", linewidth=2, label=\"True Value\")\n",
    "\n",
    "    # Adjust appearance\n",
    "    for ax in axes:\n",
    "        ax.tick_params(axis=\"both\", labelsize=12)\n",
    "\n",
    "    # Add legend\n",
    "    lgd = fig.legend(\n",
    "        labels=[\"Ground truth\", \"Algo\", \"True Value\"] if true_params is not None else [\"Ground truth\", \"Algo\"],\n",
    "        loc=\"upper center\",\n",
    "        bbox_to_anchor=(0.8, 0.6),\n",
    "    )\n",
    "    fig.suptitle(title, fontsize=20)\n",
    "    fig.tight_layout()\n",
    "    if txt is not None:\n",
    "        text_art = fig.text(\n",
    "            0.0, -0.10, txt, wrap=True, horizontalalignment=\"left\", fontsize=12\n",
    "        )\n",
    "        extra_artists = (text_art, lgd)\n",
    "    else:\n",
    "        extra_artists = (lgd,)\n",
    "    if save_as is not None:\n",
    "        fig.savefig(\n",
    "            save_as,\n",
    "            dpi=dpi,\n",
    "            bbox_extra_artists=extra_artists,\n",
    "            bbox_inches=\"tight\",\n",
    "        )\n",
    "    return fig\n",
    "\n",
    "\n",
    "\n",
    "RESULTS_DIR = \"./experiment_results\"\n",
    "\n"
   ]
  },
  {
   "cell_type": "code",
   "execution_count": null,
   "outputs": [],
   "source": [
    "# Instantiate a task\n",
    "task = sbibm.get_task(\"svar\")\n",
    "# task = sbibm.get_task(\"bernoulli_glm\")  # See sbibm.get_available_tasks() for all tasks\n",
    "# task = sbibm.get_task(\"sir\")\n",
    "# task = sbibm.get_task(\"gaussian_mixture\")\n",
    "# task = sbibm.get_task(\"gaussion_linear_uniform\")"
   ],
   "metadata": {
    "collapsed": false
   },
   "id": "d03409fa049bf848"
  },
  {
   "cell_type": "code",
   "execution_count": null,
   "outputs": [],
   "source": [
    "from sbibm.algorithms import pyvbmc,snpe,bolfi\n",
    "# run pyvbmc with exact likelihood\n",
    "posterior_samples, _, _ = pyvbmc(task=task, num_samples=10000, num_observation=1, noisy_likelihood=False)\n",
    "\n",
    "# run pyvbmc with noisy likelihood\n",
    "posterior_samples, total_simulations, _ = pyvbmc(task=task, num_samples=10000, num_observation=1, simulations_per_eval=100) # run until converge\n",
    "posterior_samples, _, _ = pyvbmc(task=task, num_samples=10000, num_observation=1, num_simulations=10000) # run with fixed simulation budget\n",
    "\n",
    "\n",
    "# run snpe\n",
    "posterior_samples, _, _ = snpe(task=task, num_samples=10000, num_observation=1, num_simulations=2000)\n",
    "\n",
    "# run bolfi\n",
    "posterior_samples, _, _ = bolfi(task=task, num_samples=10000, num_observation=1, num_simulations=200)\n"
   ],
   "metadata": {
    "collapsed": false
   },
   "id": "9e451c85dd9c4216"
  },
  {
   "cell_type": "code",
   "execution_count": null,
   "outputs": [],
   "source": [
    "# visualize inferred vs reference posterior distribution \n",
    "ref_samples = task.get_reference_posterior_samples(num_observation=1)\n",
    "true_params = task.get_true_parameters(num_observation=1)\n",
    "\n",
    "corner_plot(ref_samples.numpy(),posterior_samples.numpy(), true_params.squeeze().numpy())\n"
   ],
   "metadata": {
    "collapsed": false
   },
   "id": "6ad216b5fbd338d9"
  }
 ],
 "metadata": {
  "kernelspec": {
   "display_name": "Python 3",
   "language": "python",
   "name": "python3"
  },
  "language_info": {
   "codemirror_mode": {
    "name": "ipython",
    "version": 2
   },
   "file_extension": ".py",
   "mimetype": "text/x-python",
   "name": "python",
   "nbconvert_exporter": "python",
   "pygments_lexer": "ipython2",
   "version": "2.7.6"
  }
 },
 "nbformat": 4,
 "nbformat_minor": 5
}
